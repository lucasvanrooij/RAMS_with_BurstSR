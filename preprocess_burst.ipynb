{
 "cells": [
  {
   "cell_type": "markdown",
   "metadata": {},
   "source": [
    "Preprocess BursSR dataset for RAMS"
   ]
  },
  {
   "cell_type": "code",
   "execution_count": 1,
   "metadata": {
    "ExecuteTime": {
     "end_time": "2020-10-01T16:12:41.821468Z",
     "start_time": "2020-10-01T16:12:41.635000Z"
    }
   },
   "outputs": [
    {
     "name": "stdout",
     "output_type": "stream",
     "text": [
      "Requirement already satisfied: opencv-python in c:\\users\\default.desktop-frpmn5g\\anaconda3\\lib\\site-packages (4.5.4.60)\n",
      "Requirement already satisfied: numpy>=1.17.3 in c:\\users\\default.desktop-frpmn5g\\anaconda3\\lib\\site-packages (from opencv-python) (1.20.1)\n",
      "Note: you may need to restart the kernel to use updated packages.\n",
      "Requirement already satisfied: torchvision in c:\\users\\default.desktop-frpmn5g\\anaconda3\\lib\\site-packages (0.11.2)\n",
      "Requirement already satisfied: torch==1.10.1 in c:\\users\\default.desktop-frpmn5g\\anaconda3\\lib\\site-packages (from torchvision) (1.10.1)\n",
      "Requirement already satisfied: numpy in c:\\users\\default.desktop-frpmn5g\\anaconda3\\lib\\site-packages (from torchvision) (1.20.1)\n",
      "Requirement already satisfied: pillow!=8.3.0,>=5.3.0 in c:\\users\\default.desktop-frpmn5g\\anaconda3\\lib\\site-packages (from torchvision) (8.2.0)\n",
      "Requirement already satisfied: typing-extensions in c:\\users\\default.desktop-frpmn5g\\anaconda3\\lib\\site-packages (from torch==1.10.1->torchvision) (3.7.4.3)\n",
      "Note: you may need to restart the kernel to use updated packages.\n",
      "Requirement already satisfied: exifread in c:\\users\\default.desktop-frpmn5g\\anaconda3\\lib\\site-packages (2.3.2)\n",
      "Note: you may need to restart the kernel to use updated packages.\n"
     ]
    }
   ],
   "source": [
    "%matplotlib inline\n",
    "%reload_ext autoreload\n",
    "%autoreload 2\n",
    "%pip install opencv-python\n",
    "%pip install torchvision\n",
    "%pip install exifread"
   ]
  },
  {
   "cell_type": "code",
   "execution_count": 4,
   "metadata": {
    "ExecuteTime": {
     "end_time": "2020-10-01T16:12:41.994463Z",
     "start_time": "2020-10-01T16:12:41.822701Z"
    }
   },
   "outputs": [],
   "source": [
    "# import utils and basic libraries\n",
    "# from RAMS.utils.preprocessing import load_dataset,select_T_images,register_dataset,augment_dataset\n",
    "\n",
    "from burst_preprocess_utils import load_dataset\n",
    "import numpy as np\n",
    "import os\n",
    "import matplotlib.pyplot as plt"
   ]
  },
  {
   "cell_type": "code",
   "execution_count": 14,
   "metadata": {
    "ExecuteTime": {
     "end_time": "2020-10-01T16:12:42.003213Z",
     "start_time": "2020-10-01T16:12:41.995586Z"
    }
   },
   "outputs": [],
   "source": [
    "#-------------\n",
    "# Settings\n",
    "#-------------\n",
    "T = 8                                # number of temporal dimension\n",
    "n_augment = 7                        # number of temporal permutations to augment the dataset\n",
    "dataset_dir = 'burstsr_dataset'          # input dir (train val and test splitted)\n",
    "dataset_output_dir = 'burstsr_preprocessed'       # output dir\n",
    "threshold_clean = 0.85               # percentage of clear pixel\n",
    "train_full = False                   # train without a validation"
   ]
  },
  {
   "cell_type": "markdown",
   "metadata": {},
   "source": [
    "<a id=\"loading\"></a>\n",
    "# 1.0 Dataset Loading"
   ]
  },
  {
   "cell_type": "code",
   "execution_count": 6,
   "metadata": {
    "ExecuteTime": {
     "end_time": "2020-10-01T16:12:49.002476Z",
     "start_time": "2020-10-01T16:12:42.004060Z"
    }
   },
   "outputs": [
    {
     "data": {
      "application/vnd.jupyter.widget-view+json": {
       "model_id": "f1ccc96a33aa4bb0b94422f2f8254232",
       "version_major": 2,
       "version_minor": 0
      },
      "text/plain": [
       "  0%|          | 0/2000 [00:00<?, ?it/s]"
      ]
     },
     "metadata": {},
     "output_type": "display_data"
    },
    {
     "name": "stdout",
     "output_type": "stream",
     "text": [
      "Train scenes: 2000 | Train y shape: (2000,)\n"
     ]
    },
    {
     "name": "stderr",
     "output_type": "stream",
     "text": [
      "c:\\Users\\Default.DESKTOP-FRPMN5G\\Documents\\Master\\UC\\project\\burst_preprocess_utils.py:58: FutureWarning: The input object of type 'Tensor' is an array-like implementing one of the corresponding protocols (`__array__`, `__array_interface__` or `__array_struct__`); but not a sequence (or 0-D). In the future, this object will be coerced as if it was first converted using `np.array(obj)`. To retain the old behaviour, you have to either modify the type 'Tensor', or assign to an empty array created with `np.empty(correct_shape, dtype=object)`.\n",
      "  return X,X_masks,np.array(y),np.array(y_masks)\n",
      "c:\\Users\\Default.DESKTOP-FRPMN5G\\Documents\\Master\\UC\\project\\burst_preprocess_utils.py:58: VisibleDeprecationWarning: Creating an ndarray from ragged nested sequences (which is a list-or-tuple of lists-or-tuples-or ndarrays with different lengths or shapes) is deprecated. If you meant to do this, you must specify 'dtype=object' when creating the ndarray.\n",
      "  return X,X_masks,np.array(y),np.array(y_masks)\n"
     ]
    }
   ],
   "source": [
    "# train loading\n",
    "X_train, X_train_masks, y_train, y_train_masks = load_dataset(base_dir=dataset_dir, \n",
    "                                                              part=\"train\",\n",
    "                                                              colored_image=False)\n",
    "print(f\"Train scenes: {len(X_train)} | Train y shape: {y_train.shape}\")"
   ]
  },
  {
   "cell_type": "code",
   "execution_count": 7,
   "metadata": {
    "ExecuteTime": {
     "end_time": "2020-10-01T16:12:51.960208Z",
     "start_time": "2020-10-01T16:12:49.003244Z"
    }
   },
   "outputs": [
    {
     "data": {
      "application/vnd.jupyter.widget-view+json": {
       "model_id": "96db2b60731f41ebbb6ab6b8c3facbeb",
       "version_major": 2,
       "version_minor": 0
      },
      "text/plain": [
       "  0%|          | 0/882 [00:00<?, ?it/s]"
      ]
     },
     "metadata": {},
     "output_type": "display_data"
    },
    {
     "name": "stdout",
     "output_type": "stream",
     "text": [
      "Val RED scenes: 882 | Val RED y shape: (882,)\n"
     ]
    },
    {
     "name": "stderr",
     "output_type": "stream",
     "text": [
      "c:\\Users\\Default.DESKTOP-FRPMN5G\\Documents\\Master\\UC\\project\\burst_preprocess_utils.py:58: FutureWarning: The input object of type 'Tensor' is an array-like implementing one of the corresponding protocols (`__array__`, `__array_interface__` or `__array_struct__`); but not a sequence (or 0-D). In the future, this object will be coerced as if it was first converted using `np.array(obj)`. To retain the old behaviour, you have to either modify the type 'Tensor', or assign to an empty array created with `np.empty(correct_shape, dtype=object)`.\n",
      "  return X,X_masks,np.array(y),np.array(y_masks)\n",
      "c:\\Users\\Default.DESKTOP-FRPMN5G\\Documents\\Master\\UC\\project\\burst_preprocess_utils.py:58: VisibleDeprecationWarning: Creating an ndarray from ragged nested sequences (which is a list-or-tuple of lists-or-tuples-or ndarrays with different lengths or shapes) is deprecated. If you meant to do this, you must specify 'dtype=object' when creating the ndarray.\n",
      "  return X,X_masks,np.array(y),np.array(y_masks)\n"
     ]
    }
   ],
   "source": [
    "# validation loading\n",
    "X_val, X_val_masks, y_val, y_val_masks = load_dataset(base_dir=dataset_dir,\n",
    "                                                      part=\"val\",\n",
    "                                                      colored_image=False)\n",
    "\n",
    "print(f\"Val RED scenes: {len(X_val)} | Val RED y shape: {y_val.shape}\")"
   ]
  },
  {
   "cell_type": "code",
   "execution_count": 9,
   "metadata": {
    "ExecuteTime": {
     "end_time": "2020-10-01T16:12:53.861099Z",
     "start_time": "2020-10-01T16:12:51.961150Z"
    }
   },
   "outputs": [
    {
     "data": {
      "application/vnd.jupyter.widget-view+json": {
       "model_id": "8e61b275f7924488bc76272ee236a863",
       "version_major": 2,
       "version_minor": 0
      },
      "text/plain": [
       "  0%|          | 0/146 [00:00<?, ?it/s]"
      ]
     },
     "metadata": {},
     "output_type": "display_data"
    },
    {
     "data": {
      "application/vnd.jupyter.widget-view+json": {
       "model_id": "33c7d46a531444b5967fe72e4d627184",
       "version_major": 2,
       "version_minor": 0
      },
      "text/plain": [
       "  0%|          | 0/144 [00:00<?, ?it/s]"
      ]
     },
     "metadata": {},
     "output_type": "display_data"
    },
    {
     "name": "stdout",
     "output_type": "stream",
     "text": [
      "Test RED scenes: 146\n",
      "Test NIR scenes: 144\n"
     ]
    }
   ],
   "source": [
    "# test loading\n",
    "#burst sr bevat geen test set\n",
    "# X_RED_test, X_RED_test_masks = load_dataset(base_dir=dataset_dir,part=\"test\",band=\"RED\")\n",
    "# X_NIR_test, X_NIR_test_masks = load_dataset(base_dir=dataset_dir,part=\"test\",band=\"NIR\")\n",
    "\n",
    "# print(f\"Test RED scenes: {len(X_RED_test)}\")\n",
    "# print(f\"Test NIR scenes: {len(X_NIR_test)}\")"
   ]
  },
  {
   "cell_type": "markdown",
   "metadata": {},
   "source": [
    "<a id=\"visualize\"></a>\n",
    "# 3.0 Visualize the Pre-Processed Datataset"
   ]
  },
  {
   "cell_type": "code",
   "execution_count": 16,
   "metadata": {
    "ExecuteTime": {
     "end_time": "2020-10-01T16:21:13.294008Z",
     "start_time": "2020-10-01T16:21:13.286858Z"
    }
   },
   "outputs": [],
   "source": [
    "#-------------\n",
    "# Settings\n",
    "#-------------\n",
    "index = 200\n",
    "os.environ['KMP_DUPLICATE_LIB_OK']='True'"
   ]
  },
  {
   "cell_type": "code",
   "execution_count": 23,
   "metadata": {
    "ExecuteTime": {
     "end_time": "2020-10-01T16:21:13.741233Z",
     "start_time": "2020-10-01T16:21:13.294890Z"
    }
   },
   "outputs": [
    {
     "data": {
      "image/png": "[encoded data removed]",
      "text/plain": [
       "<Figure size 1440x360 with 16 Axes>"
      ]
     },
     "metadata": {
      "needs_background": "light"
     },
     "output_type": "display_data"
    }
   ],
   "source": [
    "fig, ax = plt.subplots(2, T, figsize=(20,5))\n",
    "\n",
    "for i in range(T):\n",
    "    ax[0,i].imshow(X_train[index][...,i], cmap = 'gray')\n",
    "    ax[0,i].axis('off')\n",
    "plt.show()"
   ]
  },
  {
   "cell_type": "markdown",
   "metadata": {},
   "source": [
    "<a id=\"save\"></a>\n",
    "# 4.0 Save dataset"
   ]
  },
  {
   "cell_type": "code",
   "execution_count": null,
   "metadata": {
    "ExecuteTime": {
     "end_time": "2020-10-01T16:31:11.107260Z",
     "start_time": "2020-10-01T16:31:11.092658Z"
    }
   },
   "outputs": [],
   "source": [
    "if not os.path.isdir(dataset_output_dir):\n",
    "    os.mkdir(dataset_output_dir)"
   ]
  },
  {
   "cell_type": "code",
   "execution_count": null,
   "metadata": {
    "ExecuteTime": {
     "end_time": "2020-10-01T16:31:33.137574Z",
     "start_time": "2020-10-01T16:31:12.508857Z"
    }
   },
   "outputs": [],
   "source": [
    "# save training\n",
    "np.save(os.path.join(dataset_output_dir, 'X_RED_train.npy'), X_RED_train)\n",
    "np.save(os.path.join(dataset_output_dir, 'X_NIR_train.npy'), X_NIR_train)\n",
    "\n",
    "np.save(os.path.join(dataset_output_dir, 'y_RED_train.npy'), y_RED_train)\n",
    "np.save(os.path.join(dataset_output_dir, 'y_NIR_train.npy'), y_NIR_train)\n",
    "\n",
    "np.save(os.path.join(dataset_output_dir, 'y_RED_train_masks.npy'), y_RED_train_masks)\n",
    "np.save(os.path.join(dataset_output_dir, 'y_NIR_train_masks.npy'), y_NIR_train_masks)"
   ]
  },
  {
   "cell_type": "code",
   "execution_count": null,
   "metadata": {
    "ExecuteTime": {
     "end_time": "2020-10-01T16:31:34.766852Z",
     "start_time": "2020-10-01T16:31:34.528430Z"
    }
   },
   "outputs": [],
   "source": [
    "# save validation\n",
    "if not train_full:\n",
    "    np.save(os.path.join(dataset_output_dir, 'X_RED_val.npy'), X_RED_val)\n",
    "    np.save(os.path.join(dataset_output_dir, 'X_NIR_val.npy'), X_NIR_val)\n",
    "\n",
    "    np.save(os.path.join(dataset_output_dir, 'y_RED_val.npy'), y_RED_val)\n",
    "    np.save(os.path.join(dataset_output_dir, 'y_NIR_val.npy'), y_NIR_val)\n",
    "\n",
    "    np.save(os.path.join(dataset_output_dir, 'y_RED_val_masks.npy'), y_RED_val_masks)\n",
    "    np.save(os.path.join(dataset_output_dir, 'y_NIR_val_masks.npy'), y_NIR_val_masks)"
   ]
  },
  {
   "cell_type": "code",
   "execution_count": null,
   "metadata": {
    "ExecuteTime": {
     "end_time": "2020-10-01T16:31:36.249034Z",
     "start_time": "2020-10-01T16:31:36.167724Z"
    }
   },
   "outputs": [],
   "source": [
    "# save test\n",
    "np.save(os.path.join(dataset_output_dir, 'X_RED_test.npy'), X_RED_test)\n",
    "np.save(os.path.join(dataset_output_dir, 'X_NIR_test.npy'), X_NIR_test)"
   ]
  }
 ],
 "metadata": {
  "interpreter": {
   "hash": "ccc597fa2502b1ad4253efe9be6e1fc8a92ff2520684e2cc7fc85e3c4166c01a"
  },
  "kernelspec": {
   "display_name": "Python 3.9.7 64-bit",
   "name": "python3"
  },
  "language_info": {
   "codemirror_mode": {
    "name": "ipython",
    "version": 3
   },
   "file_extension": ".py",
   "mimetype": "text/x-python",
   "name": "python",
   "nbconvert_exporter": "python",
   "pygments_lexer": "ipython3",
   "version": "3.8.8"
  },
  "toc": {
   "base_numbering": 1,
   "nav_menu": {},
   "number_sections": false,
   "sideBar": true,
   "skip_h1_title": false,
   "title_cell": "Table of Contents",
   "title_sidebar": "Contents",
   "toc_cell": false,
   "toc_position": {},
   "toc_section_display": true,
   "toc_window_display": true
  },
  "varInspector": {
   "cols": {
    "lenName": 16,
    "lenType": 16,
    "lenVar": 40
   },
   "kernels_config": {
    "python": {
     "delete_cmd_postfix": "",
     "delete_cmd_prefix": "del ",
     "library": "var_list.py",
     "varRefreshCmd": "print(var_dic_list())"
    },
    "r": {
     "delete_cmd_postfix": ") ",
     "delete_cmd_prefix": "rm(",
     "library": "var_list.r",
     "varRefreshCmd": "cat(var_dic_list()) "
    }
   },
   "types_to_exclude": [
    "module",
    "function",
    "builtin_function_or_method",
    "instance",
    "_Feature"
   ],
   "window_display": false
  }
 },
 "nbformat": 4,
 "nbformat_minor": 2
}
