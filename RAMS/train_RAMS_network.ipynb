{
 "cells": [
  {
   "cell_type": "markdown",
   "metadata": {},
   "source": [
    "# Train RAMS Deep Neural Network on Proba-V Dataset\n",
    "![proba_v_dataset](media/RAMS.png \"Logo Title Text 1\")\n",
    "\n",
    "The following notebook provides a script to train the residual attention network for multi-image super-resolution (RAMS). It makes use of the pre-processed dataset (train and validation) saved in the 'dataset' folder and using the main settings it selects a band to train with. \n",
    "\n",
    "**NB**: We strongly discouraged to run this notebook without an available GPU on the host machine. The original training (ckpt folder) has been performed on a 2080 Ti GPU card with 11GB of memory in approximately 24 hours.\n",
    "\n",
    "**The notebook is divided in**:\n",
    "- 1.0 [Dataset Loading](#loading)\n",
    "- 2.0 [Dataset Pre-Processing](#preprocessing)\n",
    "    - 2.1 Make patches\n",
    "    - 2.2 Clarity patches check\n",
    "    - 2.3 Pre-augment dataset (temporal permutation)\n",
    "- 3.0 [Build the network](#network)\n",
    "- 4.0 [Train the network](#train)"
   ]
  },
  {
   "cell_type": "code",
   "execution_count": 59,
   "metadata": {
    "ExecuteTime": {
     "end_time": "2020-03-06T14:36:07.882578Z",
     "start_time": "2020-03-06T14:36:07.757190Z"
    }
   },
   "outputs": [
    {
     "name": "stdout",
     "output_type": "stream",
     "text": [
      "Requirement already satisfied: pip in /home/s3112217/.local/lib/python3.7/site-packages (21.3.1)\n",
      "Requirement already satisfied: setuptools in /home/s3112217/.local/lib/python3.7/site-packages (60.2.0)\n",
      "Requirement already satisfied: wheel in /home/s3112217/.local/lib/python3.7/site-packages (0.37.1)\n",
      "Note: you may need to restart the kernel to use updated packages.\n",
      "Defaulting to user installation because normal site-packages is not writeable\n",
      "Requirement already satisfied: numpy in /home/s3112217/.local/lib/python3.7/site-packages (from -r requirements.txt (line 1)) (1.21.5)\n",
      "Requirement already satisfied: scikit-image in /home/s3112217/.local/lib/python3.7/site-packages (from -r requirements.txt (line 2)) (0.19.1)\n",
      "Requirement already satisfied: tensorflow-addons in /home/s3112217/.local/lib/python3.7/site-packages (from -r requirements.txt (line 3)) (0.15.0)\n",
      "Requirement already satisfied: opencv-python in /home/s3112217/.local/lib/python3.7/site-packages (from -r requirements.txt (line 4)) (4.5.5.62)\n",
      "Requirement already satisfied: tqdm in /home/s3112217/.local/lib/python3.7/site-packages (from -r requirements.txt (line 5)) (4.62.3)\n",
      "Requirement already satisfied: pillow!=7.1.0,!=7.1.1,!=8.3.0,>=6.1.0 in /software/anaconda3/lib/python3.7/site-packages (from scikit-image->-r requirements.txt (line 2)) (6.1.0)\n",
      "Requirement already satisfied: PyWavelets>=1.1.1 in /home/s3112217/.local/lib/python3.7/site-packages (from scikit-image->-r requirements.txt (line 2)) (1.2.0)\n",
      "Requirement already satisfied: scipy>=1.4.1 in /home/s3112217/.local/lib/python3.7/site-packages (from scikit-image->-r requirements.txt (line 2)) (1.7.3)\n",
      "Requirement already satisfied: imageio>=2.4.1 in /software/anaconda3/lib/python3.7/site-packages (from scikit-image->-r requirements.txt (line 2)) (2.5.0)\n",
      "Requirement already satisfied: tifffile>=2019.7.26 in /home/s3112217/.local/lib/python3.7/site-packages (from scikit-image->-r requirements.txt (line 2)) (2021.11.2)\n",
      "Requirement already satisfied: networkx>=2.2 in /software/anaconda3/lib/python3.7/site-packages (from scikit-image->-r requirements.txt (line 2)) (2.3)\n",
      "Requirement already satisfied: packaging>=20.0 in /home/s3112217/.local/lib/python3.7/site-packages (from scikit-image->-r requirements.txt (line 2)) (21.3)\n",
      "Requirement already satisfied: typeguard>=2.7 in /home/s3112217/.local/lib/python3.7/site-packages (from tensorflow-addons->-r requirements.txt (line 3)) (2.13.3)\n",
      "Requirement already satisfied: decorator>=4.3.0 in /software/anaconda3/lib/python3.7/site-packages (from networkx>=2.2->scikit-image->-r requirements.txt (line 2)) (4.4.0)\n",
      "Requirement already satisfied: pyparsing!=3.0.5,>=2.0.2 in /software/anaconda3/lib/python3.7/site-packages (from packaging>=20.0->scikit-image->-r requirements.txt (line 2)) (2.4.0)\n",
      "Note: you may need to restart the kernel to use updated packages.\n",
      "Defaulting to user installation because normal site-packages is not writeable\n",
      "Requirement already satisfied: tqdm in /home/s3112217/.local/lib/python3.7/site-packages (4.62.3)\n",
      "Note: you may need to restart the kernel to use updated packages.\n",
      "\u001b[33mWARNING: Skipping tensorflow as it is not installed.\u001b[0m\n",
      "Note: you may need to restart the kernel to use updated packages.\n",
      "Defaulting to user installation because normal site-packages is not writeable\n",
      "Requirement already satisfied: tensorflow-gpu in /home/s3112217/.local/lib/python3.7/site-packages (2.7.0)\n",
      "Requirement already satisfied: absl-py>=0.4.0 in /home/s3112217/.local/lib/python3.7/site-packages (from tensorflow-gpu) (1.0.0)\n",
      "Requirement already satisfied: astunparse>=1.6.0 in /home/s3112217/.local/lib/python3.7/site-packages (from tensorflow-gpu) (1.6.3)\n",
      "Requirement already satisfied: wheel<1.0,>=0.32.0 in /home/s3112217/.local/lib/python3.7/site-packages (from tensorflow-gpu) (0.37.1)\n",
      "Requirement already satisfied: keras-preprocessing>=1.1.1 in /home/s3112217/.local/lib/python3.7/site-packages (from tensorflow-gpu) (1.1.2)\n",
      "Requirement already satisfied: termcolor>=1.1.0 in /home/s3112217/.local/lib/python3.7/site-packages (from tensorflow-gpu) (1.1.0)\n",
      "Requirement already satisfied: flatbuffers<3.0,>=1.12 in /home/s3112217/.local/lib/python3.7/site-packages (from tensorflow-gpu) (2.0)\n",
      "Requirement already satisfied: typing-extensions>=3.6.6 in /home/s3112217/.local/lib/python3.7/site-packages (from tensorflow-gpu) (4.0.1)\n",
      "Requirement already satisfied: protobuf>=3.9.2 in /home/s3112217/.local/lib/python3.7/site-packages (from tensorflow-gpu) (3.19.1)\n",
      "Requirement already satisfied: gast<0.5.0,>=0.2.1 in /home/s3112217/.local/lib/python3.7/site-packages (from tensorflow-gpu) (0.4.0)\n",
      "Requirement already satisfied: tensorflow-io-gcs-filesystem>=0.21.0 in /home/s3112217/.local/lib/python3.7/site-packages (from tensorflow-gpu) (0.23.1)\n",
      "Requirement already satisfied: opt-einsum>=2.3.2 in /home/s3112217/.local/lib/python3.7/site-packages (from tensorflow-gpu) (3.3.0)\n",
      "Requirement already satisfied: tensorboard~=2.6 in /home/s3112217/.local/lib/python3.7/site-packages (from tensorflow-gpu) (2.7.0)\n",
      "Requirement already satisfied: wrapt>=1.11.0 in /software/anaconda3/lib/python3.7/site-packages (from tensorflow-gpu) (1.11.2)\n",
      "Requirement already satisfied: libclang>=9.0.1 in /home/s3112217/.local/lib/python3.7/site-packages (from tensorflow-gpu) (12.0.0)\n",
      "Requirement already satisfied: google-pasta>=0.1.1 in /home/s3112217/.local/lib/python3.7/site-packages (from tensorflow-gpu) (0.2.0)\n",
      "Requirement already satisfied: grpcio<2.0,>=1.24.3 in /home/s3112217/.local/lib/python3.7/site-packages (from tensorflow-gpu) (1.43.0)\n",
      "Requirement already satisfied: numpy>=1.14.5 in /home/s3112217/.local/lib/python3.7/site-packages (from tensorflow-gpu) (1.21.5)\n",
      "Requirement already satisfied: six>=1.12.0 in /software/anaconda3/lib/python3.7/site-packages (from tensorflow-gpu) (1.12.0)\n",
      "Requirement already satisfied: tensorflow-estimator<2.8,~=2.7.0rc0 in /home/s3112217/.local/lib/python3.7/site-packages (from tensorflow-gpu) (2.7.0)\n",
      "Requirement already satisfied: keras<2.8,>=2.7.0rc0 in /home/s3112217/.local/lib/python3.7/site-packages (from tensorflow-gpu) (2.7.0)\n",
      "Requirement already satisfied: h5py>=2.9.0 in /software/anaconda3/lib/python3.7/site-packages (from tensorflow-gpu) (2.9.0)\n",
      "Requirement already satisfied: setuptools>=41.0.0 in /home/s3112217/.local/lib/python3.7/site-packages (from tensorboard~=2.6->tensorflow-gpu) (60.2.0)\n",
      "Requirement already satisfied: tensorboard-plugin-wit>=1.6.0 in /home/s3112217/.local/lib/python3.7/site-packages (from tensorboard~=2.6->tensorflow-gpu) (1.8.0)\n",
      "Requirement already satisfied: google-auth-oauthlib<0.5,>=0.4.1 in /home/s3112217/.local/lib/python3.7/site-packages (from tensorboard~=2.6->tensorflow-gpu) (0.4.6)\n",
      "Requirement already satisfied: markdown>=2.6.8 in /home/s3112217/.local/lib/python3.7/site-packages (from tensorboard~=2.6->tensorflow-gpu) (3.3.6)\n",
      "Requirement already satisfied: tensorboard-data-server<0.7.0,>=0.6.0 in /home/s3112217/.local/lib/python3.7/site-packages (from tensorboard~=2.6->tensorflow-gpu) (0.6.1)\n",
      "Requirement already satisfied: google-auth<3,>=1.6.3 in /home/s3112217/.local/lib/python3.7/site-packages (from tensorboard~=2.6->tensorflow-gpu) (2.3.3)\n",
      "Requirement already satisfied: werkzeug>=0.11.15 in /software/anaconda3/lib/python3.7/site-packages (from tensorboard~=2.6->tensorflow-gpu) (0.15.4)\n",
      "Requirement already satisfied: requests<3,>=2.21.0 in /software/anaconda3/lib/python3.7/site-packages (from tensorboard~=2.6->tensorflow-gpu) (2.22.0)\n",
      "Requirement already satisfied: rsa<5,>=3.1.4 in /home/s3112217/.local/lib/python3.7/site-packages (from google-auth<3,>=1.6.3->tensorboard~=2.6->tensorflow-gpu) (4.8)\n",
      "Requirement already satisfied: cachetools<5.0,>=2.0.0 in /home/s3112217/.local/lib/python3.7/site-packages (from google-auth<3,>=1.6.3->tensorboard~=2.6->tensorflow-gpu) (4.2.4)\n",
      "Requirement already satisfied: pyasn1-modules>=0.2.1 in /home/s3112217/.local/lib/python3.7/site-packages (from google-auth<3,>=1.6.3->tensorboard~=2.6->tensorflow-gpu) (0.2.8)\n",
      "Requirement already satisfied: requests-oauthlib>=0.7.0 in /home/s3112217/.local/lib/python3.7/site-packages (from google-auth-oauthlib<0.5,>=0.4.1->tensorboard~=2.6->tensorflow-gpu) (1.3.0)\n",
      "Requirement already satisfied: importlib-metadata>=4.4 in /home/s3112217/.local/lib/python3.7/site-packages (from markdown>=2.6.8->tensorboard~=2.6->tensorflow-gpu) (4.10.0)\n",
      "Requirement already satisfied: urllib3!=1.25.0,!=1.25.1,<1.26,>=1.21.1 in /software/anaconda3/lib/python3.7/site-packages (from requests<3,>=2.21.0->tensorboard~=2.6->tensorflow-gpu) (1.24.2)\n",
      "Requirement already satisfied: idna<2.9,>=2.5 in /software/anaconda3/lib/python3.7/site-packages (from requests<3,>=2.21.0->tensorboard~=2.6->tensorflow-gpu) (2.8)\n",
      "Requirement already satisfied: chardet<3.1.0,>=3.0.2 in /software/anaconda3/lib/python3.7/site-packages (from requests<3,>=2.21.0->tensorboard~=2.6->tensorflow-gpu) (3.0.4)\n",
      "Requirement already satisfied: certifi>=2017.4.17 in /software/anaconda3/lib/python3.7/site-packages (from requests<3,>=2.21.0->tensorboard~=2.6->tensorflow-gpu) (2019.6.16)\n"
     ]
    },
    {
     "name": "stdout",
     "output_type": "stream",
     "text": [
      "Requirement already satisfied: zipp>=0.5 in /software/anaconda3/lib/python3.7/site-packages (from importlib-metadata>=4.4->markdown>=2.6.8->tensorboard~=2.6->tensorflow-gpu) (0.5.1)\n",
      "Requirement already satisfied: pyasn1<0.5.0,>=0.4.6 in /home/s3112217/.local/lib/python3.7/site-packages (from pyasn1-modules>=0.2.1->google-auth<3,>=1.6.3->tensorboard~=2.6->tensorflow-gpu) (0.4.8)\n",
      "Requirement already satisfied: oauthlib>=3.0.0 in /home/s3112217/.local/lib/python3.7/site-packages (from requests-oauthlib>=0.7.0->google-auth-oauthlib<0.5,>=0.4.1->tensorboard~=2.6->tensorflow-gpu) (3.1.1)\n",
      "Note: you may need to restart the kernel to use updated packages.\n"
     ]
    }
   ],
   "source": [
    "%matplotlib inline\n",
    "%reload_ext autoreload\n",
    "%autoreload 2\n",
    "%pip install --upgrade pip setuptools wheel --user\n",
    "%pip install -r requirements.txt\n",
    "%pip install tqdm --upgrade\n",
    "%pip uninstall tensorflow\n",
    "%pip install tensorflow-gpu --upgrade"
   ]
  },
  {
   "cell_type": "code",
   "execution_count": 2,
   "metadata": {},
   "outputs": [
    {
     "name": "stdout",
     "output_type": "stream",
     "text": [
      "Defaulting to user installation because normal site-packages is not writeable\n",
      "Requirement already satisfied: scikit-image in /software/anaconda3/lib/python3.7/site-packages (0.15.0)\n",
      "Collecting scikit-image\n",
      "  Downloading scikit_image-0.19.1-cp37-cp37m-manylinux_2_12_x86_64.manylinux2010_x86_64.whl (13.3 MB)\n",
      "     |████████████████████████████████| 13.3 MB 20.2 MB/s            \n",
      "\u001b[?25hCollecting scipy>=1.4.1\n",
      "  Downloading scipy-1.7.3-cp37-cp37m-manylinux_2_12_x86_64.manylinux2010_x86_64.whl (38.1 MB)\n",
      "     |████████████████████████████████| 38.1 MB 75.8 MB/s            \n",
      "\u001b[?25hCollecting numpy>=1.17.0\n",
      "  Downloading numpy-1.21.5-cp37-cp37m-manylinux_2_12_x86_64.manylinux2010_x86_64.whl (15.7 MB)\n",
      "     |████████████████████████████████| 15.7 MB 55.8 MB/s            \n",
      "\u001b[?25hCollecting PyWavelets>=1.1.1\n",
      "  Downloading PyWavelets-1.2.0-cp37-cp37m-manylinux_2_5_x86_64.manylinux1_x86_64.whl (6.1 MB)\n",
      "     |████████████████████████████████| 6.1 MB 55.2 MB/s            \n",
      "\u001b[?25hCollecting packaging>=20.0\n",
      "  Using cached packaging-21.3-py3-none-any.whl (40 kB)\n",
      "Requirement already satisfied: imageio>=2.4.1 in /software/anaconda3/lib/python3.7/site-packages (from scikit-image) (2.5.0)\n",
      "Requirement already satisfied: networkx>=2.2 in /software/anaconda3/lib/python3.7/site-packages (from scikit-image) (2.3)\n",
      "Collecting tifffile>=2019.7.26\n",
      "  Downloading tifffile-2021.11.2-py3-none-any.whl (178 kB)\n",
      "     |████████████████████████████████| 178 kB 62.3 MB/s            \n",
      "\u001b[?25hRequirement already satisfied: pillow!=7.1.0,!=7.1.1,!=8.3.0,>=6.1.0 in /software/anaconda3/lib/python3.7/site-packages (from scikit-image) (6.1.0)\n",
      "Requirement already satisfied: decorator>=4.3.0 in /software/anaconda3/lib/python3.7/site-packages (from networkx>=2.2->scikit-image) (4.4.0)\n",
      "Requirement already satisfied: pyparsing!=3.0.5,>=2.0.2 in /software/anaconda3/lib/python3.7/site-packages (from packaging>=20.0->scikit-image) (2.4.0)\n",
      "Installing collected packages: numpy, tifffile, scipy, PyWavelets, packaging, scikit-image\n",
      "Successfully installed PyWavelets-1.2.0 numpy-1.21.5 packaging-21.3 scikit-image-0.19.1 scipy-1.7.3 tifffile-2021.11.2\n",
      "Note: you may need to restart the kernel to use updated packages.\n"
     ]
    }
   ],
   "source": [
    "%pip install scikit-image --upgrade"
   ]
  },
  {
   "cell_type": "code",
   "execution_count": 10,
   "metadata": {},
   "outputs": [
    {
     "name": "stdout",
     "output_type": "stream",
     "text": [
      "2.7.0\n"
     ]
    }
   ],
   "source": [
    "#tf.config.experimental.list_physical_devices('GPU')\n",
    "print(tf.__version__)"
   ]
  },
  {
   "cell_type": "code",
   "execution_count": 13,
   "metadata": {
    "ExecuteTime": {
     "end_time": "2020-03-06T14:36:09.065498Z",
     "start_time": "2020-03-06T14:36:08.039481Z"
    }
   },
   "outputs": [],
   "source": [
    "# import utils and basic libraries\n",
    "import os\n",
    "from tqdm.notebook import tqdm\n",
    "import matplotlib.pyplot as plt\n",
    "import numpy as np\n",
    "import tensorflow as tf\n",
    "from utils.preprocessing import gen_sub, bicubic\n",
    "from utils.loss import l1_loss, psnr, ssim\n",
    "from utils.network import RAMS\n",
    "from utils.training import Trainer\n",
    "from skimage import io\n",
    "from zipfile import ZipFile"
   ]
  },
  {
   "cell_type": "code",
   "execution_count": 14,
   "metadata": {
    "ExecuteTime": {
     "end_time": "2020-03-06T14:36:09.183877Z",
     "start_time": "2020-03-06T14:36:09.149475Z"
    }
   },
   "outputs": [
    {
     "ename": "IndexError",
     "evalue": "list index out of range",
     "output_type": "error",
     "traceback": [
      "\u001b[0;31m---------------------------------------------------------------------------\u001b[0m",
      "\u001b[0;31mIndexError\u001b[0m                                Traceback (most recent call last)",
      "\u001b[0;32m<ipython-input-14-0e7e2faffa31>\u001b[0m in \u001b[0;36m<module>\u001b[0;34m\u001b[0m\n\u001b[1;32m      1\u001b[0m \u001b[0;31m# gpu settings (we strongly discouraged to run this notebook without an available GPU)\u001b[0m\u001b[0;34m\u001b[0m\u001b[0;34m\u001b[0m\u001b[0;34m\u001b[0m\u001b[0m\n\u001b[1;32m      2\u001b[0m \u001b[0mgpus\u001b[0m \u001b[0;34m=\u001b[0m \u001b[0mtf\u001b[0m\u001b[0;34m.\u001b[0m\u001b[0mconfig\u001b[0m\u001b[0;34m.\u001b[0m\u001b[0mexperimental\u001b[0m\u001b[0;34m.\u001b[0m\u001b[0mlist_physical_devices\u001b[0m\u001b[0;34m(\u001b[0m\u001b[0;34m'GPU'\u001b[0m\u001b[0;34m)\u001b[0m\u001b[0;34m\u001b[0m\u001b[0;34m\u001b[0m\u001b[0m\n\u001b[0;32m----> 3\u001b[0;31m \u001b[0mtf\u001b[0m\u001b[0;34m.\u001b[0m\u001b[0mconfig\u001b[0m\u001b[0;34m.\u001b[0m\u001b[0mexperimental\u001b[0m\u001b[0;34m.\u001b[0m\u001b[0mset_visible_devices\u001b[0m\u001b[0;34m(\u001b[0m\u001b[0mgpus\u001b[0m\u001b[0;34m[\u001b[0m\u001b[0;36m0\u001b[0m\u001b[0;34m]\u001b[0m\u001b[0;34m,\u001b[0m \u001b[0;34m'GPU'\u001b[0m\u001b[0;34m)\u001b[0m\u001b[0;34m\u001b[0m\u001b[0;34m\u001b[0m\u001b[0m\n\u001b[0m\u001b[1;32m      4\u001b[0m \u001b[0mtf\u001b[0m\u001b[0;34m.\u001b[0m\u001b[0mconfig\u001b[0m\u001b[0;34m.\u001b[0m\u001b[0mexperimental\u001b[0m\u001b[0;34m.\u001b[0m\u001b[0mset_memory_growth\u001b[0m\u001b[0;34m(\u001b[0m\u001b[0mgpus\u001b[0m\u001b[0;34m[\u001b[0m\u001b[0;36m0\u001b[0m\u001b[0;34m]\u001b[0m\u001b[0;34m,\u001b[0m \u001b[0;32mTrue\u001b[0m\u001b[0;34m)\u001b[0m\u001b[0;34m\u001b[0m\u001b[0;34m\u001b[0m\u001b[0m\n",
      "\u001b[0;31mIndexError\u001b[0m: list index out of range"
     ]
    }
   ],
   "source": [
    "# gpu settings (we strongly discouraged to run this notebook without an available GPU)\n",
    "gpus = tf.config.experimental.list_physical_devices('GPU')\n",
    "tf.config.experimental.set_visible_devices(gpus[0], 'GPU')\n",
    "tf.config.experimental.set_memory_growth(gpus[0], True)"
   ]
  },
  {
   "cell_type": "code",
   "execution_count": 43,
   "metadata": {
    "ExecuteTime": {
     "end_time": "2020-03-06T14:36:09.689561Z",
     "start_time": "2020-03-06T14:36:09.671857Z"
    }
   },
   "outputs": [],
   "source": [
    "#-------------\n",
    "# General Settings\n",
    "#-------------\n",
    "PATH_DATASET = 'dataset' # pre-processed dataset path\n",
    "name_net_new = 'RAMS_w_BURSTSR' # name of the network\n",
    "name_net = 'RAMS' # name of the network\n",
    "LR_SIZE = 32 # pathces dimension\n",
    "SCALE = 3 # upscale of the proba-v dataset is 3\n",
    "HR_SIZE = LR_SIZE * SCALE # upscale of the dataset is 3\n",
    "OVERLAP = 32 # overlap between pathces\n",
    "CLEAN_PATH_PX = 0.0 # percentage of clean pixels to accept a patch\n",
    "band_new = 'burst' # choose the band for the training\n",
    "band = 'RED' # choose the band for the training\n",
    "checkpoint_dir_new = f'ckpt/{band_new}_{name_net_new}_retrain' # weights path\n",
    "checkpoint_dir = f'ckpt/{band}_{name_net}' # weights path\n",
    "log_dir = 'logs' # tensorboard logs path\n",
    "submission_dir = 'submission' # submission dir"
   ]
  },
  {
   "cell_type": "code",
   "execution_count": 44,
   "metadata": {},
   "outputs": [],
   "source": [
    "#-------------\n",
    "# Network Settings\n",
    "#-------------\n",
    "FILTERS = 32 # features map in the network\n",
    "KERNEL_SIZE = 3 # convolutional kernel size dimension (either 3D and 2D)\n",
    "CHANNELS = 9 # number of temporal steps\n",
    "R = 8 # attention compression\n",
    "N = 12 # number of residual feature attention blocks\n",
    "lr = 1e-4 # learning rate (Nadam optimizer)\n",
    "BATCH_SIZE = 32 # batch size\n",
    "EPOCHS_N = 100 # number of epochs"
   ]
  },
  {
   "cell_type": "code",
   "execution_count": 45,
   "metadata": {},
   "outputs": [],
   "source": [
    "# create logs folder\n",
    "if not os.path.exists(log_dir):\n",
    "    os.mkdir(log_dir)"
   ]
  },
  {
   "cell_type": "markdown",
   "metadata": {},
   "source": [
    "<a id=\"loading\"></a>\n",
    "# 1.0 Dataset loading"
   ]
  },
  {
   "cell_type": "code",
   "execution_count": 46,
   "metadata": {},
   "outputs": [],
   "source": [
    "# load training dataset\n",
    "X_train = np.load(os.path.join(PATH_DATASET, f'X_{band_new}_train.npy'))\n",
    "y_train = np.load(os.path.join(PATH_DATASET, f'y_{band_new}_train.npy'),allow_pickle=True)\n",
    "y_train_mask = np.load(os.path.join(PATH_DATASET, f'y_{band_new}_train_masks.npy'),allow_pickle=True)"
   ]
  },
  {
   "cell_type": "code",
   "execution_count": 47,
   "metadata": {},
   "outputs": [],
   "source": [
    "# load validation dataset\n",
    "X_val = np.load(os.path.join(PATH_DATASET, f'X_{band_new}_val.npy'))\n",
    "y_val = np.load(os.path.join(PATH_DATASET, f'y_{band_new}_val.npy'), allow_pickle=True)\n",
    "y_val_mask = np.load(os.path.join(PATH_DATASET, f'y_{band_new}_val_masks.npy'), allow_pickle=True)"
   ]
  },
  {
   "cell_type": "code",
   "execution_count": 48,
   "metadata": {},
   "outputs": [
    {
     "name": "stdout",
     "output_type": "stream",
     "text": [
      "X_train:  (200, 128, 128, 9)\n",
      "y_train:  (200, 384, 384, 1)\n",
      "y_train_mask:  (200, 384, 384, 1)\n",
      "X_val:  (200, 128, 128, 9)\n",
      "y_val:  (200, 384, 384, 1)\n",
      "y_val_mask:  (200, 384, 384, 1)\n"
     ]
    }
   ],
   "source": [
    "# print loaded dataset info\n",
    "print('X_train: ', X_train.shape)\n",
    "print('y_train: ', y_train.shape)\n",
    "print('y_train_mask: ', y_train_mask.shape)\n",
    "\n",
    "\n",
    "print('X_val: ', X_val.shape)\n",
    "print('y_val: ', y_val.shape)\n",
    "print('y_val_mask: ', y_val_mask.shape)"
   ]
  },
  {
   "cell_type": "markdown",
   "metadata": {},
   "source": [
    "<a id=\"preprocessing\"></a>\n",
    "# 2.0 Dataset Pre-Processing"
   ]
  },
  {
   "cell_type": "markdown",
   "metadata": {},
   "source": [
    "## 2.1 Make patches"
   ]
  },
  {
   "cell_type": "code",
   "execution_count": 49,
   "metadata": {},
   "outputs": [
    {
     "data": {
      "application/vnd.jupyter.widget-view+json": {
       "model_id": "586da3b1307a47dc8439d068319cecc4",
       "version_major": 2,
       "version_minor": 0
      },
      "text/plain": [
       "Creating sub images:   0%|          | 0/200 [00:00<?, ?it/s]"
      ]
     },
     "metadata": {},
     "output_type": "display_data"
    },
    {
     "name": "stdout",
     "output_type": "stream",
     "text": [
      "(3200, 32, 32, 9)\n"
     ]
    },
    {
     "data": {
      "application/vnd.jupyter.widget-view+json": {
       "model_id": "da2fe2a17125441a99cde1ad9986f2d2",
       "version_major": 2,
       "version_minor": 0
      },
      "text/plain": [
       "Creating sub images:   0%|          | 0/200 [00:00<?, ?it/s]"
      ]
     },
     "metadata": {},
     "output_type": "display_data"
    },
    {
     "name": "stdout",
     "output_type": "stream",
     "text": [
      "(3200, 32, 32, 9)\n"
     ]
    }
   ],
   "source": [
    "# create patches for LR images\n",
    "d = LR_SIZE  # 32x32 patches\n",
    "s = OVERLAP  # overlapping patches\n",
    "# Ex: n = (128-d)/s+1 = 7 -> 49 sub images from each image \n",
    "X_train_patches = gen_sub(X_train,d,s)\n",
    "X_val_patches = gen_sub(X_val,d,s)"
   ]
  },
  {
   "cell_type": "code",
   "execution_count": 50,
   "metadata": {},
   "outputs": [
    {
     "data": {
      "application/vnd.jupyter.widget-view+json": {
       "model_id": "ff49fe36bbbd44469eb8b38fd2ff821d",
       "version_major": 2,
       "version_minor": 0
      },
      "text/plain": [
       "Creating sub images:   0%|          | 0/200 [00:00<?, ?it/s]"
      ]
     },
     "metadata": {},
     "output_type": "display_data"
    },
    {
     "name": "stdout",
     "output_type": "stream",
     "text": [
      "(3200, 96, 96, 1)\n"
     ]
    },
    {
     "data": {
      "application/vnd.jupyter.widget-view+json": {
       "model_id": "23c9864aec41426bbbd464359269c933",
       "version_major": 2,
       "version_minor": 0
      },
      "text/plain": [
       "Creating sub images:   0%|          | 0/200 [00:00<?, ?it/s]"
      ]
     },
     "metadata": {},
     "output_type": "display_data"
    },
    {
     "name": "stdout",
     "output_type": "stream",
     "text": [
      "(3200, 96, 96, 1)\n"
     ]
    },
    {
     "data": {
      "application/vnd.jupyter.widget-view+json": {
       "model_id": "1fcac5e0d65b4899ac7a5b14e502d4e6",
       "version_major": 2,
       "version_minor": 0
      },
      "text/plain": [
       "Creating sub images:   0%|          | 0/200 [00:00<?, ?it/s]"
      ]
     },
     "metadata": {},
     "output_type": "display_data"
    },
    {
     "name": "stdout",
     "output_type": "stream",
     "text": [
      "(3200, 96, 96, 1)\n"
     ]
    },
    {
     "data": {
      "application/vnd.jupyter.widget-view+json": {
       "model_id": "e8ad5e9e635747639fe8a3177ef4574e",
       "version_major": 2,
       "version_minor": 0
      },
      "text/plain": [
       "Creating sub images:   0%|          | 0/200 [00:00<?, ?it/s]"
      ]
     },
     "metadata": {},
     "output_type": "display_data"
    },
    {
     "name": "stdout",
     "output_type": "stream",
     "text": [
      "(3200, 96, 96, 1)\n"
     ]
    }
   ],
   "source": [
    "# create patches for HR images and masks\n",
    "d = HR_SIZE  # 96x96 patches\n",
    "s = OVERLAP * SCALE  # overlapping patches\n",
    "# Ex: n = (384-d)/s+1 = 7 -> 49 sub images from each image\n",
    "\n",
    "y_train_patches = gen_sub(y_train,d,s)\n",
    "y_train_mask_patches = gen_sub(y_train_mask,d,s)\n",
    "\n",
    "\n",
    "y_val_patches = gen_sub(y_val,d,s)\n",
    "y_val_mask_patches = gen_sub(y_val_mask,d,s)"
   ]
  },
  {
   "cell_type": "code",
   "execution_count": 51,
   "metadata": {},
   "outputs": [
    {
     "data": {
      "text/plain": [
       "<matplotlib.image.AxesImage at 0x7f7e27fe9550>"
      ]
     },
     "execution_count": 51,
     "metadata": {},
     "output_type": "execute_result"
    },
    {
     "data": {
      "image/png": "[encoded data removed]",
      "text/plain": [
       "<Figure size 720x720 with 2 Axes>"
      ]
     },
     "metadata": {
      "needs_background": "light"
     },
     "output_type": "display_data"
    }
   ],
   "source": [
    "# print first patch and check if LR is in accordance with HR\n",
    "fig, ax = plt.subplots(1,2, figsize=(10,10))\n",
    "ax[0].imshow(X_train_patches[0,:,:,0], cmap = 'gray')\n",
    "ax[1].imshow(y_train_patches[0,:,:,0], cmap = 'gray')"
   ]
  },
  {
   "cell_type": "code",
   "execution_count": 52,
   "metadata": {},
   "outputs": [],
   "source": [
    "# free up memory\n",
    "del X_train, y_train, y_train_mask\n",
    "\n",
    "del X_val, y_val, y_val_mask"
   ]
  },
  {
   "cell_type": "markdown",
   "metadata": {},
   "source": [
    "## 2.2 Clarity patches check"
   ]
  },
  {
   "cell_type": "code",
   "execution_count": 53,
   "metadata": {},
   "outputs": [],
   "source": [
    "# find patches indices with a lower percentage of clean pixels in train array\n",
    "patches_to_remove_train = [i for i,m in enumerate(y_train_mask_patches) if np.count_nonzero(m)/(HR_SIZE*HR_SIZE) < CLEAN_PATH_PX]"
   ]
  },
  {
   "cell_type": "code",
   "execution_count": 54,
   "metadata": {},
   "outputs": [],
   "source": [
    "# find patches indices with a lower percentage of clean pixels in validation array\n",
    "patches_to_remove_val = [i for i,m in enumerate(y_val_mask_patches) if np.count_nonzero(m)/(HR_SIZE*HR_SIZE) < CLEAN_PATH_PX]"
   ]
  },
  {
   "cell_type": "code",
   "execution_count": 55,
   "metadata": {},
   "outputs": [
    {
     "name": "stdout",
     "output_type": "stream",
     "text": [
      "0\n",
      "0\n"
     ]
    }
   ],
   "source": [
    "# print number of patches to be removed\n",
    "print(len(patches_to_remove_train))\n",
    "print(len(patches_to_remove_val))"
   ]
  },
  {
   "cell_type": "code",
   "execution_count": 56,
   "metadata": {},
   "outputs": [],
   "source": [
    "# remove patches not clean\n",
    "X_train_patches = np.delete(X_train_patches,patches_to_remove_train,axis=0)\n",
    "y_train_patches =  np.delete(y_train_patches,patches_to_remove_train,axis=0)\n",
    "y_train_mask_patches =  np.delete(y_train_mask_patches,patches_to_remove_train,axis=0)\n",
    "\n",
    "X_val_patches = np.delete(X_val_patches,patches_to_remove_val,axis=0)\n",
    "y_val_patches =  np.delete(y_val_patches,patches_to_remove_val,axis=0)\n",
    "y_val_mask_patches =  np.delete(y_val_mask_patches,patches_to_remove_val,axis=0)"
   ]
  },
  {
   "cell_type": "markdown",
   "metadata": {},
   "source": [
    "<a id=\"network\"></a>\n",
    "# 3.0 Build the network"
   ]
  },
  {
   "cell_type": "code",
   "execution_count": 57,
   "metadata": {
    "ExecuteTime": {
     "end_time": "2020-03-06T14:18:41.261577Z",
     "start_time": "2020-03-06T14:18:38.172021Z"
    }
   },
   "outputs": [],
   "source": [
    "# build rams network\n",
    "rams_network = RAMS(scale=SCALE, filters=FILTERS, \n",
    "                 kernel_size=KERNEL_SIZE, channels=CHANNELS, r=R, N=N)"
   ]
  },
  {
   "cell_type": "code",
   "execution_count": 58,
   "metadata": {
    "ExecuteTime": {
     "end_time": "2020-03-06T14:18:41.365506Z",
     "start_time": "2020-03-06T14:18:41.297575Z"
    }
   },
   "outputs": [
    {
     "data": {
      "text/plain": [
       "<tensorflow.python.training.tracking.util.CheckpointLoadStatus at 0x7f7e27a65e48>"
      ]
     },
     "execution_count": 58,
     "metadata": {},
     "output_type": "execute_result"
    }
   ],
   "source": [
    "# print architecture structure\n",
    "#rams_network.summary(line_length=120)\n",
    "checkpoint = tf.train.Checkpoint(step=tf.Variable(0),\n",
    "                                psnr=tf.Variable(1.0),\n",
    "                                model=rams_network)\n",
    "\n",
    "checkpoint.restore(tf.train.latest_checkpoint(checkpoint_dir))"
   ]
  },
  {
   "cell_type": "markdown",
   "metadata": {},
   "source": [
    "<a id=\"train\"></a>\n",
    "# 4.0 Train the network"
   ]
  },
  {
   "cell_type": "code",
   "execution_count": 59,
   "metadata": {},
   "outputs": [],
   "source": [
    "trainer_rams = Trainer(rams_network, band, HR_SIZE, name_net,\n",
    "                      loss=l1_loss,\n",
    "                      metric=psnr,\n",
    "                      optimizer=tf.keras.optimizers.Nadam(learning_rate=lr),\n",
    "                      checkpoint_dir=os.path.join(checkpoint_dir_new),\n",
    "                      log_dir=log_dir)"
   ]
  },
  {
   "cell_type": "code",
   "execution_count": null,
   "metadata": {},
   "outputs": [
    {
     "name": "stdout",
     "output_type": "stream",
     "text": [
      "\n",
      "Epoch 1/100\n",
      " 352/3200 [==>...........................] - ETA: 50:58 - Loss: nan - PSNR: nan - Val Loss: 0.0000e+00 - Val PSNR: 0.0000e+00"
     ]
    }
   ],
   "source": [
    "trainer_rams.fit(X_train_patches,\n",
    "                [y_train_patches.astype('float32'), y_train_mask_patches], initial_epoch = 0,\n",
    "                batch_size=BATCH_SIZE, evaluate_every=400, data_aug = True, epochs=EPOCHS_N,\n",
    "                validation_data=(X_val_patches, [y_val_patches.astype('float32'), y_val_mask_patches])) "
   ]
  },
  {
   "cell_type": "code",
   "execution_count": null,
   "metadata": {},
   "outputs": [],
   "source": [
    "from utils.prediction import ensemble, unensemble, shuffle_last_axis, predict_tensor, predict_tensor_permute, savePredictions, savePredictionsPermut\n",
    "\n",
    "index = 2 # choose an image from validation set\n",
    "\n",
    "x_pred = predict_tensor(rams_network, X_val[index:index+1])\n",
    "\n",
    "fig, ax = plt.subplots(2,2, figsize=(15,15))\n",
    "ax[0,0].imshow(X_val[index,:,:,0], cmap = 'gray')\n",
    "ax[0,0].set_title('LR')\n",
    "ax[0,1].imshow(bicubic(np.mean(X_val[index:index+1], axis=-1)[...,None])[0,:,:,0], cmap ='gray')\n",
    "ax[0,1].set_title('Bicubic')\n",
    "ax[1,0].imshow(x_pred[0,:,:,0], cmap ='gray')\n",
    "ax[1,0].set_title('Prediction')\n",
    "ax[1,1].imshow(y_val[index,:,:,0], cmap = 'gray')\n",
    "ax[1,1].set_title('HR')\n",
    "fig.show()"
   ]
  },
  {
   "cell_type": "code",
   "execution_count": null,
   "metadata": {},
   "outputs": [],
   "source": []
  }
 ],
 "metadata": {
  "kernelspec": {
   "display_name": "Python 3",
   "language": "python",
   "name": "python3"
  },
  "language_info": {
   "codemirror_mode": {
    "name": "ipython",
    "version": 3
   },
   "file_extension": ".py",
   "mimetype": "text/x-python",
   "name": "python",
   "nbconvert_exporter": "python",
   "pygments_lexer": "ipython3",
   "version": "3.7.3"
  },
  "toc": {
   "base_numbering": 1,
   "nav_menu": {},
   "number_sections": false,
   "sideBar": true,
   "skip_h1_title": false,
   "title_cell": "Table of Contents",
   "title_sidebar": "Contents",
   "toc_cell": false,
   "toc_position": {},
   "toc_section_display": true,
   "toc_window_display": true
  },
  "varInspector": {
   "cols": {
    "lenName": 16,
    "lenType": 16,
    "lenVar": 40
   },
   "kernels_config": {
    "python": {
     "delete_cmd_postfix": "",
     "delete_cmd_prefix": "del ",
     "library": "var_list.py",
     "varRefreshCmd": "print(var_dic_list())"
    },
    "r": {
     "delete_cmd_postfix": ") ",
     "delete_cmd_prefix": "rm(",
     "library": "var_list.r",
     "varRefreshCmd": "cat(var_dic_list()) "
    }
   },
   "types_to_exclude": [
    "module",
    "function",
    "builtin_function_or_method",
    "instance",
    "_Feature"
   ],
   "window_display": false
  }
 },
 "nbformat": 4,
 "nbformat_minor": 4
}
